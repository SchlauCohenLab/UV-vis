{
 "cells": [
  {
   "cell_type": "markdown",
   "id": "f687a062-2156-4574-af90-5d111345d3df",
   "metadata": {},
   "source": [
    "# UV-vis data"
   ]
  },
  {
   "cell_type": "markdown",
   "id": "b08ee3b0-a692-4647-9018-d535ab283d00",
   "metadata": {},
   "source": [
    "Short code to import and visualize the UV-vis data. Import the .cvs file from the spectrometer. Make sure that the file contains only the data from one sample."
   ]
  },
  {
   "cell_type": "code",
   "execution_count": null,
   "id": "a1af6a68-98ab-4240-b108-20e74c1c4d64",
   "metadata": {},
   "outputs": [],
   "source": [
    "import numpy as np\n",
    "import matplotlib.pyplot as plt\n",
    "import pandas as pd \n",
    "from tkinter.filedialog import askopenfilename, askopenfilenames\n",
    "%matplotlib widget"
   ]
  },
  {
   "cell_type": "code",
   "execution_count": null,
   "id": "bfe3c207-78e3-4dc7-8f85-7d16c9226528",
   "metadata": {},
   "outputs": [],
   "source": [
    "#Get time vector data file\n",
    "UV_file = askopenfilename(filetypes=[(\"CVS files\", \"*.csv\")], title=\"Select the UV-vis data file\")\n",
    "UV_vis = pd.read_csv(UV_file,header=0, skiprows=1, usecols=['Wavelength (nm)', 'Abs'])\n",
    "UV_vis = UV_vis.iloc[:601]\n",
    "UV_vis = UV_vis.astype(float)\n",
    "print(UV_vis)"
   ]
  },
  {
   "cell_type": "code",
   "execution_count": null,
   "id": "3f8d58cd-9c4f-47f5-a722-2a13ee1d754f",
   "metadata": {},
   "outputs": [],
   "source": [
    "plt.figure(figsize=(10, 6))\n",
    "plt.plot(UV_vis['Wavelength (nm)'], UV_vis['Abs'], color='b')\n",
    "\n",
    "# Set fewer ticks on the x-axis and y-axis\n",
    "plt.xticks(np.arange(UV_vis['Wavelength (nm)'].min(), UV_vis['Wavelength (nm)'].max(), 10))\n",
    "plt.yticks(np.arange(UV_vis['Abs'].min(), UV_vis['Abs'].max(), 1))\n",
    "\n",
    "plt.title(\"UV-vis spectrum of Cu(dmp)2 in THF\")\n",
    "plt.xlabel('Wavelength (nm)')\n",
    "plt.ylabel('Abs')\n",
    "plt.grid(True)\n",
    "plt.show()"
   ]
  }
 ],
 "metadata": {
  "kernelspec": {
   "display_name": "Python 3 (ipykernel)",
   "language": "python",
   "name": "python3"
  },
  "language_info": {
   "codemirror_mode": {
    "name": "ipython",
    "version": 3
   },
   "file_extension": ".py",
   "mimetype": "text/x-python",
   "name": "python",
   "nbconvert_exporter": "python",
   "pygments_lexer": "ipython3",
   "version": "3.10.14"
  }
 },
 "nbformat": 4,
 "nbformat_minor": 5
}
